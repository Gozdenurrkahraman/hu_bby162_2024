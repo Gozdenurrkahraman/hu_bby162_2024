{
  "nbformat": 4,
  "nbformat_minor": 0,
  "metadata": {
    "colab": {
      "provenance": [],
      "authorship_tag": "ABX9TyNqM1sV3qZx524sUnUPePAC",
      "include_colab_link": true
    },
    "kernelspec": {
      "name": "python3",
      "display_name": "Python 3"
    },
    "language_info": {
      "name": "python"
    }
  },
  "cells": [
    {
      "cell_type": "markdown",
      "metadata": {
        "id": "view-in-github",
        "colab_type": "text"
      },
      "source": [
        "<a href=\"https://colab.research.google.com/github/Gozdenurrkahraman/hu_bby162_2024/blob/main/%C4%B1s%C4%B1myazmaipynb.ipynb\" target=\"_parent\"><img src=\"https://colab.research.google.com/assets/colab-badge.svg\" alt=\"Open In Colab\"/></a>"
      ]
    },
    {
      "cell_type": "code",
      "source": [],
      "metadata": {
        "id": "DAmtsDodMQow"
      },
      "execution_count": null,
      "outputs": []
    },
    {
      "cell_type": "code",
      "execution_count": 4,
      "metadata": {
        "colab": {
          "base_uri": "https://localhost:8080/"
        },
        "id": "kMGYGjB2LntX",
        "outputId": "b273213d-64f3-43c2-bdc2-aa4506832452"
      },
      "outputs": [
        {
          "output_type": "stream",
          "name": "stdout",
          "text": [
            " isminizi girin : Gozdenur\n",
            "Merhaba Gozdenur\n"
          ]
        }
      ],
      "source": [
        "isim = input(' isminizi girin : ')\n",
        "print( \"Merhaba \"+ isim)"
      ]
    }
  ]
}