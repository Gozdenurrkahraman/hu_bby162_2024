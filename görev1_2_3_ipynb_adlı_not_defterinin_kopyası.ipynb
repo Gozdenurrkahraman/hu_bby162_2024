{
  "nbformat": 4,
  "nbformat_minor": 0,
  "metadata": {
    "colab": {
      "provenance": [],
      "authorship_tag": "ABX9TyNVUTVsybtYJ49Xt8McjQMJ",
      "include_colab_link": true
    },
    "kernelspec": {
      "name": "python3",
      "display_name": "Python 3"
    },
    "language_info": {
      "name": "python"
    }
  },
  "cells": [
    {
      "cell_type": "markdown",
      "metadata": {
        "id": "view-in-github",
        "colab_type": "text"
      },
      "source": [
        "<a href=\"https://colab.research.google.com/github/Gozdenurrkahraman/hu_bby162_2024/blob/main/g%C3%B6rev1_2_3_ipynb_adl%C4%B1_not_defterinin_kopyas%C4%B1.ipynb\" target=\"_parent\"><img src=\"https://colab.research.google.com/assets/colab-badge.svg\" alt=\"Open In Colab\"/></a>"
      ]
    },
    {
      "cell_type": "code",
      "execution_count": null,
      "metadata": {
        "colab": {
          "base_uri": "https://localhost:8080/"
        },
        "id": "kmx0BlFRGP7E",
        "outputId": "3c5d0d5b-38ef-42cb-fec3-ab87df21df0c"
      },
      "outputs": [
        {
          "output_type": "stream",
          "name": "stdout",
          "text": [
            "eposta eposta:gzdnr09@icloud.com\n"
          ]
        }
      ],
      "source": [
        "eposta =  \"eposta:gzdnr09@icloud.com\"\n",
        "print( \"eposta \" +eposta)\n",
        "\n",
        "\n"
      ]
    },
    {
      "cell_type": "code",
      "source": [
        "degısken3 = \"gozde\"\n",
        "print(degısken3)"
      ],
      "metadata": {
        "colab": {
          "base_uri": "https://localhost:8080/"
        },
        "id": "JDYpH3h7IEmc",
        "outputId": "56d44905-4a55-44fd-aa8a-47b2b2e77c14"
      },
      "execution_count": null,
      "outputs": [
        {
          "output_type": "stream",
          "name": "stdout",
          "text": [
            "gozde\n"
          ]
        }
      ]
    },
    {
      "cell_type": "code",
      "source": [
        "ondaliksayi = 9.3\n",
        "print(type(ondaliksayi))"
      ],
      "metadata": {
        "colab": {
          "base_uri": "https://localhost:8080/"
        },
        "id": "CTOf6ql0Kla-",
        "outputId": "51565d0b-3dbf-4d25-e98c-232f5978778f"
      },
      "execution_count": null,
      "outputs": [
        {
          "output_type": "stream",
          "name": "stdout",
          "text": [
            "<class 'float'>\n"
          ]
        }
      ]
    },
    {
      "cell_type": "code",
      "source": [],
      "metadata": {
        "id": "qaLH7HpmLklP"
      },
      "execution_count": null,
      "outputs": []
    }
  ]
}