{
  "nbformat": 4,
  "nbformat_minor": 0,
  "metadata": {
    "colab": {
      "provenance": [],
      "authorship_tag": "ABX9TyM2GCP3PWL8vX5Xus6m0Vir",
      "include_colab_link": true
    },
    "kernelspec": {
      "name": "python3",
      "display_name": "Python 3"
    },
    "language_info": {
      "name": "python"
    }
  },
  "cells": [
    {
      "cell_type": "markdown",
      "metadata": {
        "id": "view-in-github",
        "colab_type": "text"
      },
      "source": [
        "<a href=\"https://colab.research.google.com/github/Gozdenurrkahraman/hu_bby162_2024/blob/main/%C4%B1k%C4%B1say%C4%B1n%C4%B1ntoplam%C4%B1.ipynb\" target=\"_parent\"><img src=\"https://colab.research.google.com/assets/colab-badge.svg\" alt=\"Open In Colab\"/></a>"
      ]
    },
    {
      "cell_type": "code",
      "execution_count": 2,
      "metadata": {
        "colab": {
          "base_uri": "https://localhost:8080/"
        },
        "id": "CHVuZk4bQ6aO",
        "outputId": "1aff3985-4cf3-4ead-c8f1-2f9b8b61fc81"
      },
      "outputs": [
        {
          "output_type": "stream",
          "name": "stdout",
          "text": [
            "1. Sayı : 9\n",
            "2. Sayı : 5.9\n",
            "Toplam :14.9 \n"
          ]
        }
      ],
      "source": [
        "sayi1 = input('1. Sayı : ')\n",
        "sayi2 = input('2. Sayı : ')\n",
        "toplam=float(sayi1)+float(sayi2)\n",
        "print(\"Toplam :{0} \".format(toplam))"
      ]
    },
    {
      "cell_type": "code",
      "source": [],
      "metadata": {
        "id": "oufzWDJ_REV0"
      },
      "execution_count": null,
      "outputs": []
    }
  ]
}